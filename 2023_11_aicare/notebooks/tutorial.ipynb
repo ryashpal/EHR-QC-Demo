{
 "cells": [
  {
   "cell_type": "markdown",
   "metadata": {},
   "source": [
    "# 2023 AI.Care"
   ]
  },
  {
   "cell_type": "markdown",
   "metadata": {},
   "source": [
    "This tutorial contains the commands for standardising and pre-processing electronic health record (EHR) data using EHR-QC."
   ]
  },
  {
   "cell_type": "markdown",
   "metadata": {},
   "source": [
    "## Standardisation"
   ]
  },
  {
   "cell_type": "markdown",
   "metadata": {},
   "source": [
    "### 01. Import Standard Vocabulary"
   ]
  },
  {
   "cell_type": "code",
   "execution_count": null,
   "metadata": {},
   "outputs": [],
   "source": [
    "import os\n",
    "\n",
    "\n",
    "os.system(\n",
    "    'cd ' + os.environ['EHR_QC_STANDARDISE_BASE'] + ';'\n",
    "    +\n",
    "    '''.venv/bin/python -m ehrqc.standardise.Run -l'''\n",
    ")\n"
   ]
  },
  {
   "cell_type": "markdown",
   "metadata": {},
   "source": [
    "### Import EHR"
   ]
  },
  {
   "cell_type": "code",
   "execution_count": 5,
   "metadata": {},
   "outputs": [
    {
     "name": "stdout",
     "output_type": "stream",
     "text": [
      "2023-11-22 10:36:33,863 - EHR-QC - INFO - Parsing command line arguments\n",
      "2023-11-22 10:36:33,866 - EHR-QC - INFO - Start!!\n",
      "2023-11-22 10:36:33,874 - EHR-QC - INFO - Creating schema: eicu_etl_20231121\n",
      "2023-11-22 10:36:33,874 - EHR-QC - INFO - Creating schema: eicu_etl_20231121\n",
      "2023-11-22 10:36:33,875 - EHR-QC - INFO - Importing EHR data from CSV files\n",
      "2023-11-22 10:36:33,875 - EHR-QC - INFO - Creating table: eicu_etl_20231121.patients\n",
      "2023-11-22 10:36:34,187 - EHR-QC - INFO - Importing data to table: eicu_etl_20231121.patients\n",
      "2023-11-22 10:36:34,213 - EHR-QC - INFO - Creating table: eicu_etl_20231121.admissions\n",
      "2023-11-22 10:36:34,256 - EHR-QC - INFO - Importing data to table: eicu_etl_20231121.admissions\n",
      "2023-11-22 10:36:34,313 - EHR-QC - INFO - Creating table: eicu_etl_20231121.labevents\n",
      "2023-11-22 10:36:34,636 - EHR-QC - INFO - Importing data to table: eicu_etl_20231121.labevents\n",
      "2023-11-22 10:36:53,831 - EHR-QC - INFO - End!!\n"
     ]
    },
    {
     "data": {
      "text/plain": [
       "0"
      ]
     },
     "execution_count": 5,
     "metadata": {},
     "output_type": "execute_result"
    }
   ],
   "source": [
    "import os\n",
    "\n",
    "\n",
    "os.system(\n",
    "    'cd ' + os.environ['EHR_QC_STANDARDISE_BASE'] + ';'\n",
    "    +\n",
    "    '''.venv/bin/python -m ehrqc.standardise.Run -f'''\n",
    ")\n"
   ]
  },
  {
   "cell_type": "markdown",
   "metadata": {},
   "source": [
    "### Stage EHR"
   ]
  },
  {
   "cell_type": "code",
   "execution_count": 6,
   "metadata": {},
   "outputs": [
    {
     "name": "stdout",
     "output_type": "stream",
     "text": [
      "2023-11-22 10:44:32,262 - EHR-QC - INFO - Parsing command line arguments\n",
      "2023-11-22 10:44:32,265 - EHR-QC - INFO - Start!!\n",
      "2023-11-22 10:44:32,273 - EHR-QC - INFO - Creating schema: eicu_etl_20231121\n",
      "2023-11-22 10:44:32,274 - EHR-QC - INFO - Staging EHR data\n",
      "2023-11-22 10:44:32,274 - EHR-QC - INFO - Creating staging table: eicu_etl_20231121.src_patients\n",
      "2023-11-22 10:44:32,307 - EHR-QC - INFO - Creating staging table: eicu_etl_20231121.src_admissions\n",
      "2023-11-22 10:44:32,324 - EHR-QC - INFO - Creating staging table: eicu_etl_20231121.src_labevents\n",
      "2023-11-22 10:44:35,437 - EHR-QC - INFO - End!!\n"
     ]
    },
    {
     "data": {
      "text/plain": [
       "0"
      ]
     },
     "execution_count": 6,
     "metadata": {},
     "output_type": "execute_result"
    }
   ],
   "source": [
    "import os\n",
    "\n",
    "\n",
    "os.system(\n",
    "    'cd ' + os.environ['EHR_QC_STANDARDISE_BASE'] + ';'\n",
    "    +\n",
    "    '''.venv/bin/python -m ehrqc.standardise.Run -s'''\n",
    ")\n"
   ]
  },
  {
   "cell_type": "markdown",
   "metadata": {},
   "source": [
    "### Perform Concept Mapping"
   ]
  },
  {
   "cell_type": "code",
   "execution_count": 7,
   "metadata": {},
   "outputs": [
    {
     "name": "stderr",
     "output_type": "stream",
     "text": [
      "/superbugai-data/yash/chapter_2/workspace/EHR-QC-Standardise/.venv/lib/python3.9/site-packages/fuzzywuzzy/fuzz.py:11: UserWarning: Using slow pure-python SequenceMatcher. Install python-Levenshtein to remove this warning\n",
      "  warnings.warn('Using slow pure-python SequenceMatcher. Install python-Levenshtein to remove this warning')\n"
     ]
    },
    {
     "name": "stdout",
     "output_type": "stream",
     "text": [
      "Parsing command line arguments\n",
      "2023-11-22 10:44:39,445 - EHR-QC - INFO - domain_id: Measurement\n",
      "2023-11-22 10:44:39,445 - EHR-QC - INFO - vocabulary_id: SNOMED\n",
      "2023-11-22 10:44:39,445 - EHR-QC - INFO - concept_class_id: Observable Entity\n",
      "2023-11-22 10:44:39,445 - EHR-QC - INFO - concepts_path: /home/yram0006/phd/chapter_2/workspace/EHR-QC-Demo/2023_11_aicare/data/concepts/concepts_raw.csv\n",
      "2023-11-22 10:44:39,445 - EHR-QC - INFO - concept_name_row: CONCEPT\n",
      "2023-11-22 10:44:39,445 - EHR-QC - INFO - mapped_concepts_save_path: /home/yram0006/phd/chapter_2/workspace/EHR-QC-Demo/2023_11_aicare/data/concepts/concepts_to_review.csv\n",
      "2023-11-22 10:44:39,445 - EHR-QC - INFO - model_pack_path: /home/yram0006/phd/chapter_2/workspace/EHR-QC-Demo/2023_11_aicare/data/medcat/mc_modelpack_snomed_int_16_mar_2022_25be3857ba34bdd5.zip\n",
      "2023-11-22 10:44:39,734 - EHR-QC - INFO - Getting connection\n",
      "2023-11-22 10:44:39,742 - EHR-QC - INFO - Reading concepts\n"
     ]
    },
    {
     "name": "stderr",
     "output_type": "stream",
     "text": [
      "/superbugai-data/yash/chapter_2/workspace/EHR-QC-Standardise/ehrqc/standardise/MapConcepts.py:116: UserWarning: pandas only supports SQLAlchemy connectable (engine/connection) or database string URI or sqlite3 DBAPI2 connection. Other DBAPI2 objects are not tested. Please consider using SQLAlchemy.\n",
      "  standardConceptsDf = pd.read_sql_query(standardConceptsQuery, con)\n"
     ]
    },
    {
     "name": "stdout",
     "output_type": "stream",
     "text": [
      "2023-11-22 10:44:40,361 - EHR-QC - INFO - Creating reverse index\n",
      "2023-11-22 10:44:41,144 - EHR-QC - INFO - Initializing Medcat\n"
     ]
    },
    {
     "name": "stderr",
     "output_type": "stream",
     "text": [
      "/superbugai-data/yash/chapter_2/workspace/EHR-QC-Standardise/.venv/lib/python3.9/site-packages/torch/__init__.py:614: UserWarning: torch.set_default_tensor_type() is deprecated as of PyTorch 2.1, please use torch.set_default_dtype() and torch.set_default_device() as alternatives. (Triggered internally at ../torch/csrc/tensor/python_tensor.cpp:451.)\n",
      "  _C._set_default_tensor_type(t)\n",
      "100%|██████████| 149/149 [00:51<00:00,  2.90it/s]\n"
     ]
    },
    {
     "data": {
      "text/plain": [
       "0"
      ]
     },
     "execution_count": 7,
     "metadata": {},
     "output_type": "execute_result"
    }
   ],
   "source": [
    "import os\n",
    "\n",
    "\n",
    "os.system(\n",
    "    'cd ' + os.environ['EHR_QC_STANDARDISE_BASE'] + ';'\n",
    "    +\n",
    "    '''.venv/bin/python -m ehrqc.standardise.MapConcepts \"Measurement\" \"SNOMED\" \"Observable Entity\" \"$EHR_QC_DEMO_BASE/2023_11_aicare/data/concepts/concepts_raw.csv\" \"CONCEPT\" \"$EHR_QC_DEMO_BASE/2023_11_aicare/data/concepts/concepts_to_review.csv\" --model_pack_path=\"$EHR_QC_DEMO_BASE/2023_11_aicare/data/medcat/mc_modelpack_snomed_int_16_mar_2022_25be3857ba34bdd5.zip\"'''\n",
    ")\n"
   ]
  },
  {
   "cell_type": "markdown",
   "metadata": {},
   "source": [
    "### Import Mapped Concepts"
   ]
  },
  {
   "cell_type": "code",
   "execution_count": 8,
   "metadata": {},
   "outputs": [
    {
     "name": "stdout",
     "output_type": "stream",
     "text": [
      "2023-11-22 10:46:08,270 - EHR-QC - INFO - Parsing command line arguments\n",
      "2023-11-22 10:46:08,273 - EHR-QC - INFO - Start!!\n",
      "2023-11-22 10:46:08,491 - EHR-QC - INFO - Creating schema: eicu_etl_20231121\n",
      "2023-11-22 10:46:08,491 - EHR-QC - INFO - Import Concept Mappings\n",
      "2023-11-22 10:46:08,491 - EHR-QC - INFO - Creating table: eicu_etl_20231121.concept_mapping\n",
      "2023-11-22 10:46:08,806 - EHR-QC - INFO - Importing data to table: eicu_etl_20231121.concept_mapping\n",
      "2023-11-22 10:46:08,811 - EHR-QC - INFO - End!!\n"
     ]
    },
    {
     "data": {
      "text/plain": [
       "0"
      ]
     },
     "execution_count": 8,
     "metadata": {},
     "output_type": "execute_result"
    }
   ],
   "source": [
    "import os\n",
    "\n",
    "\n",
    "os.system(\n",
    "    'cd ' + os.environ['EHR_QC_STANDARDISE_BASE'] + ';'\n",
    "    +\n",
    "    '''.venv/bin/python -m ehrqc.standardise.Run -c'''\n",
    ")\n"
   ]
  },
  {
   "cell_type": "markdown",
   "metadata": {},
   "source": [
    "### Perform ETL"
   ]
  },
  {
   "cell_type": "code",
   "execution_count": 9,
   "metadata": {},
   "outputs": [
    {
     "name": "stdout",
     "output_type": "stream",
     "text": [
      "2023-11-22 10:46:16,860 - EHR-QC - INFO - Parsing command line arguments\n",
      "2023-11-22 10:46:16,863 - EHR-QC - INFO - Start!!\n",
      "2023-11-22 10:46:16,871 - EHR-QC - INFO - Creating schema: eicu_etl_20231121\n",
      "2023-11-22 10:46:16,872 - EHR-QC - INFO - Performing ETL\n",
      "2023-11-22 10:46:16,872 - EHR-QC - INFO - ETL for the entity: Person\n",
      "2023-11-22 10:46:16,872 - EHR-QC - INFO - Dropping table if exists: eicu_etl_20231121.cdm_person\n",
      "2023-11-22 10:46:16,873 - EHR-QC - INFO - Creating table: eicu_etl_20231121.cdm_person\n",
      "2023-11-22 10:46:16,894 - EHR-QC - INFO - Loading table: eicu_etl_20231121.cdm_person\n",
      "2023-11-22 10:46:16,903 - EHR-QC - INFO - ETL for the entity: Visit Occurrence\n",
      "2023-11-22 10:46:16,903 - EHR-QC - INFO - Creating table: eicu_etl_20231121.cdm_visit_occurrence\n",
      "2023-11-22 10:46:16,903 - EHR-QC - INFO - Dropping table if exists: eicu_etl_20231121.cdm_visit_occurrence\n",
      "2023-11-22 10:46:16,905 - EHR-QC - INFO - Creating table: eicu_etl_20231121.cdm_visit_occurrence\n",
      "2023-11-22 10:46:16,925 - EHR-QC - INFO - Loading table: eicu_etl_20231121.cdm_visit_occurrence\n",
      "2023-11-22 10:46:16,935 - EHR-QC - INFO - ETL for the entity: Measurements\n",
      "2023-11-22 10:46:16,935 - EHR-QC - INFO - Creating table: eicu_etl_20231121.cdm_measurement\n",
      "2023-11-22 10:46:16,935 - EHR-QC - INFO - Dropping table if exists: eicu_etl_20231121.cdm_measurement\n",
      "2023-11-22 10:46:16,937 - EHR-QC - INFO - Creating table: eicu_etl_20231121.cdm_measurement\n",
      "2023-11-22 10:46:16,959 - EHR-QC - INFO - Loading table: eicu_etl_20231121.cdm_measurement - Lab Events\n",
      "2023-11-22 10:46:19,299 - EHR-QC - INFO - End!!\n"
     ]
    },
    {
     "data": {
      "text/plain": [
       "0"
      ]
     },
     "execution_count": 9,
     "metadata": {},
     "output_type": "execute_result"
    }
   ],
   "source": [
    "import os\n",
    "\n",
    "\n",
    "os.system(\n",
    "    'cd ' + os.environ['EHR_QC_STANDARDISE_BASE'] + ';'\n",
    "    +\n",
    "    '''.venv/bin/python -m ehrqc.standardise.Run -e'''\n",
    ")\n"
   ]
  },
  {
   "cell_type": "markdown",
   "metadata": {},
   "source": [
    "## Preprocess"
   ]
  },
  {
   "cell_type": "markdown",
   "metadata": {},
   "source": [
    "### Concept Coverage Analysis"
   ]
  },
  {
   "cell_type": "code",
   "execution_count": 10,
   "metadata": {},
   "outputs": [
    {
     "name": "stdout",
     "output_type": "stream",
     "text": [
      "2023-11-22 10:46:44,570 - EHR-QC - INFO - Parsing command line arguments\n",
      "2023-11-22 10:46:44,571 - EHR-QC - INFO - Start!!\n",
      "2023-11-22 10:46:44,571 - EHR-QC - INFO - args.schema_name: eicu_etl_20231121\n",
      "2023-11-22 10:46:44,571 - EHR-QC - INFO - args.save_file: /home/yram0006/phd/chapter_2/workspace/EHR-QC-Demo/2023_11_aicare/logs/concept_coverage_report.csv\n",
      "2023-11-22 10:46:44,571 - EHR-QC - INFO - Obtaiting Coverage from DB\n"
     ]
    },
    {
     "name": "stderr",
     "output_type": "stream",
     "text": [
      "/superbugai-data/yash/chapter_2/workspace/EHR-QC-Preprocess/ehrqc/coverage/ConceptCoverage.py:39: UserWarning: pandas only supports SQLAlchemy connectable (engine/connection) or database string URI or sqlite3 DBAPI2 connection. Other DBAPI2 objects are not tested. Please consider using SQLAlchemy.\n",
      "  coverageDf = pd.read_sql_query(coverageQuery, con)\n"
     ]
    },
    {
     "name": "stdout",
     "output_type": "stream",
     "text": [
      "2023-11-22 10:46:47,508 - EHR-QC - INFO - Done!!\n"
     ]
    },
    {
     "data": {
      "text/plain": [
       "0"
      ]
     },
     "execution_count": 10,
     "metadata": {},
     "output_type": "execute_result"
    }
   ],
   "source": [
    "import os\n",
    "\n",
    "\n",
    "os.system(\n",
    "    'cd ' + os.environ['EHR_QC_PREPROCESS_BASE'] + ';'\n",
    "    +\n",
    "    '''.venv/bin/python -m ehrqc.coverage.ConceptCoverage eicu_etl_20231121 -sf ''' + os.environ['EHR_QC_DEMO_BASE'] + '''/2023_11_aicare/logs/concept_coverage_report.csv'''\n",
    ")\n"
   ]
  },
  {
   "cell_type": "markdown",
   "metadata": {},
   "source": [
    "### Extract data"
   ]
  },
  {
   "cell_type": "code",
   "execution_count": 12,
   "metadata": {},
   "outputs": [
    {
     "name": "stdout",
     "output_type": "stream",
     "text": [
      "2023-11-22 10:48:31,679 - EHR-QC - INFO - Parsing command line arguments\n",
      "2023-11-22 10:48:31,680 - EHR-QC - INFO - args.save_path: /home/yram0006/phd/chapter_2/workspace/EHR-QC-Demo/2023_11_aicare/data/raw/labs_avg_episode_date.csv\n",
      "2023-11-22 10:48:31,680 - EHR-QC - INFO - args.schema_name: eicu_etl_20231121\n",
      "2023-11-22 10:48:31,680 - EHR-QC - INFO - args.sql_file_path: /home/yram0006/phd/chapter_2/workspace/EHR-QC-Demo/2023_11_aicare/data/sql/extract/avg.sql\n",
      "2023-11-22 10:48:31,702 - EHR-QC - INFO - extracting data\n"
     ]
    },
    {
     "name": "stderr",
     "output_type": "stream",
     "text": [
      "/superbugai-data/yash/chapter_2/workspace/EHR-QC-Preprocess/ehrqc/extract/ExtractData.py:11: UserWarning: pandas only supports SQLAlchemy connectable (engine/connection) or database string URI or sqlite3 DBAPI2 connection. Other DBAPI2 objects are not tested. Please consider using SQLAlchemy.\n",
      "  mimicOmopSepsisIcdDf = pd.read_sql_query(mimicOmopSepsisIcdQuery, con)\n"
     ]
    },
    {
     "name": "stdout",
     "output_type": "stream",
     "text": [
      "2023-11-22 10:48:32,171 - EHR-QC - INFO - Saving raw data to file\n",
      "2023-11-22 10:48:32,319 - EHR-QC - INFO - Done!\n"
     ]
    },
    {
     "data": {
      "text/plain": [
       "0"
      ]
     },
     "execution_count": 12,
     "metadata": {},
     "output_type": "execute_result"
    }
   ],
   "source": [
    "import os\n",
    "\n",
    "\n",
    "os.system(\n",
    "    'cd ' + os.environ['EHR_QC_PREPROCESS_BASE'] + ';'\n",
    "    +\n",
    "    '''.venv/bin/python -m ehrqc.extract.ExtractData $EHR_QC_DEMO_BASE/2023_11_aicare/data/raw/labs_avg_episode_date.csv eicu_etl_20231121 $EHR_QC_DEMO_BASE/2023_11_aicare/data/sql/extract/avg.sql'''\n",
    ")\n"
   ]
  },
  {
   "cell_type": "markdown",
   "metadata": {},
   "source": [
    "### Data Coverage Analysis"
   ]
  },
  {
   "cell_type": "code",
   "execution_count": 13,
   "metadata": {},
   "outputs": [
    {
     "name": "stdout",
     "output_type": "stream",
     "text": [
      "2023-11-22 10:48:39,824 - EHR-QC - INFO - Parsing command line arguments\n",
      "2023-11-22 10:48:39,825 - EHR-QC - INFO - Start!!\n",
      "2023-11-22 10:48:39,825 - EHR-QC - INFO - args.source_file: /home/yram0006/phd/chapter_2/workspace/EHR-QC-Demo/2023_11_aicare/data/raw/labs_avg_episode_date.csv\n",
      "2023-11-22 10:48:39,825 - EHR-QC - INFO - args.chunksize: 100000\n",
      "2023-11-22 10:48:39,825 - EHR-QC - INFO - args.id_columns: ['person_id', 'visit_occurrence_id']\n",
      "2023-11-22 10:48:39,825 - EHR-QC - INFO - args.drop: True\n",
      "2023-11-22 10:48:39,825 - EHR-QC - INFO - args.percentage: 20.0\n",
      "2023-11-22 10:48:39,825 - EHR-QC - INFO - args.save_path: /home/yram0006/phd/chapter_2/workspace/EHR-QC-Demo/2023_11_aicare/data/dropped/labs_avg_episode_date.csv\n",
      "2023-11-22 10:48:39,825 - EHR-QC - INFO - Calculating Missingnes\n",
      "2023-11-22 10:48:39,855 - EHR-QC - INFO - Missingness Report\n",
      "2023-11-22 10:48:39,858 - EHR-QC - INFO - \n",
      "\n",
      "                                          column_name  missing_count  \\\n",
      "0                            Alanine aminotransferase             86   \n",
      "1                                             Albumin             62   \n",
      "2                                           Anion gap            147   \n",
      "3              Aspartate aminotransferase measurement             83   \n",
      "4                                   Bicarbonate level            102   \n",
      "5                                 Blood urea nitrogen              5   \n",
      "6                                       Calcium level             15   \n",
      "7                                            Chloride             10   \n",
      "8                                    Creatinine level              7   \n",
      "9                                       Glucose level             98   \n",
      "10                             Haemoglobin estimation             13   \n",
      "11                                         Hematocrit              9   \n",
      "12                      Infectious mononucleosis test            177   \n",
      "13                                            Lactate            222   \n",
      "14                                              Lymph            177   \n",
      "15                 MCH - Mean corpuscular haemoglobin             47   \n",
      "16  MCHC - Mean corpuscular haemoglobin concentration             19   \n",
      "17                      MCV - Mean corpuscular volume             19   \n",
      "18                                     Platelet count             15   \n",
      "19                                    Potassium level              9   \n",
      "20                               Red blood cell count             14   \n",
      "21                  Red blood cell distribution width             95   \n",
      "22                   Serum alkaline phosphatase level             84   \n",
      "23                                       Sodium level              5   \n",
      "24                              Total bilirubin level             84   \n",
      "25                          Total protein measurement            101   \n",
      "26                             White blood cell count             78   \n",
      "27                                   measurement_date              0   \n",
      "\n",
      "    total_count  percentage_missing  \n",
      "0          1000                 8.6  \n",
      "1          1000                 6.2  \n",
      "2          1000                14.7  \n",
      "3          1000                 8.3  \n",
      "4          1000                10.2  \n",
      "5          1000                 0.5  \n",
      "6          1000                 1.5  \n",
      "7          1000                 1.0  \n",
      "8          1000                 0.7  \n",
      "9          1000                 9.8  \n",
      "10         1000                 1.3  \n",
      "11         1000                 0.9  \n",
      "12         1000                17.7  \n",
      "13         1000                22.2  \n",
      "14         1000                17.7  \n",
      "15         1000                 4.7  \n",
      "16         1000                 1.9  \n",
      "17         1000                 1.9  \n",
      "18         1000                 1.5  \n",
      "19         1000                 0.9  \n",
      "20         1000                 1.4  \n",
      "21         1000                 9.5  \n",
      "22         1000                 8.4  \n",
      "23         1000                 0.5  \n",
      "24         1000                 8.4  \n",
      "25         1000                10.1  \n",
      "26         1000                 7.8  \n",
      "27         1000                 0.0  \n",
      "\n",
      "2023-11-22 10:48:39,858 - EHR-QC - INFO - Dropping columns with above 20.0 % missingness\n",
      "2023-11-22 10:48:39,862 - EHR-QC - INFO - Saving data to /home/yram0006/phd/chapter_2/workspace/EHR-QC-Demo/2023_11_aicare/data/dropped/labs_avg_episode_date.csv\n",
      "2023-11-22 10:48:39,983 - EHR-QC - INFO - Done!!\n"
     ]
    },
    {
     "data": {
      "text/plain": [
       "0"
      ]
     },
     "execution_count": 13,
     "metadata": {},
     "output_type": "execute_result"
    }
   ],
   "source": [
    "import os\n",
    "\n",
    "\n",
    "os.system(\n",
    "    'cd ' + os.environ['EHR_QC_PREPROCESS_BASE'] + ';'\n",
    "    +\n",
    "    '''.venv/bin/python -m ehrqc.coverage.Coverage $EHR_QC_DEMO_BASE/2023_11_aicare/data/raw/labs_avg_episode_date.csv 100000 -i \"person_id\" \"visit_occurrence_id\"  -d -p 20 -sp $EHR_QC_DEMO_BASE/2023_11_aicare/data/dropped/labs_avg_episode_date.csv'''\n",
    ")\n"
   ]
  },
  {
   "cell_type": "markdown",
   "metadata": {},
   "source": [
    "### Impute Missing Data"
   ]
  },
  {
   "cell_type": "code",
   "execution_count": 15,
   "metadata": {},
   "outputs": [
    {
     "name": "stdout",
     "output_type": "stream",
     "text": [
      "2023-11-22 10:50:45,820 - EHR-QC - INFO - Parsing command line arguments\n",
      "2023-11-22 10:50:45,821 - EHR-QC - INFO - args.action: impute\n",
      "2023-11-22 10:50:45,822 - EHR-QC - INFO - args.source_path: /home/yram0006/phd/chapter_2/workspace/EHR-QC-Demo/2023_11_aicare/data/dropped/labs_avg_episode_date.csv\n",
      "2023-11-22 10:50:45,822 - EHR-QC - INFO - args.percentage: None\n",
      "2023-11-22 10:50:45,822 - EHR-QC - INFO - args.save_path: /home/yram0006/phd/chapter_2/workspace/EHR-QC-Demo/2023_11_aicare/data/imputed/labs_avg_episode_date.csv\n",
      "2023-11-22 10:50:45,822 - EHR-QC - INFO - args.algorithm: miss_forest\n",
      "2023-11-22 10:50:45,822 - EHR-QC - INFO - args.columns: ['Sodium level', 'Blood urea nitrogen', 'Creatinine level', 'Potassium level', 'Chloride', 'Hematocrit', 'Haemoglobin estimation', 'Platelet count', 'Red blood cell count', 'Calcium level', 'MCV - Mean corpuscular volume', 'MCHC - Mean corpuscular haemoglobin concentration', 'Albumin', 'MCH - Mean corpuscular haemoglobin', 'Serum alkaline phosphatase level', 'Aspartate aminotransferase measurement', 'Alanine aminotransferase', 'Total bilirubin level', 'White blood cell count', 'Red blood cell distribution width', 'Total protein measurement', 'Glucose level', 'Bicarbonate level', 'Anion gap', 'Lymph', 'Infectious mononucleosis test']\n",
      "Iteration: 0\n",
      "Iteration: 1\n",
      "Iteration: 2\n",
      "2023-11-22 10:51:50,537 - EHR-QC - INFO - Done!!\n"
     ]
    },
    {
     "data": {
      "text/plain": [
       "0"
      ]
     },
     "execution_count": 15,
     "metadata": {},
     "output_type": "execute_result"
    }
   ],
   "source": [
    "import os\n",
    "\n",
    "\n",
    "os.system(\n",
    "    'cd ' + os.environ['EHR_QC_PREPROCESS_BASE'] + ';'\n",
    "    +\n",
    "    '''.venv/bin/python -m ehrqc.impute.Impute -ac \"impute\" $EHR_QC_DEMO_BASE/2023_11_aicare/data/dropped/labs_avg_episode_date.csv -sp $EHR_QC_DEMO_BASE/2023_11_aicare/data/imputed/labs_avg_episode_date.csv -al miss_forest -c \"Sodium level\" \"Blood urea nitrogen\" \"Creatinine level\" \"Potassium level\" \"Chloride\" \"Hematocrit\" \"Haemoglobin estimation\" \"Platelet count\" \"Red blood cell count\" \"Calcium level\" \"MCV - Mean corpuscular volume\" \"MCHC - Mean corpuscular haemoglobin concentration\" \"Albumin\" \"MCH - Mean corpuscular haemoglobin\" \"Serum alkaline phosphatase level\" \"Aspartate aminotransferase measurement\" \"Alanine aminotransferase\" \"Total bilirubin level\" \"White blood cell count\" \"Red blood cell distribution width\" \"Total protein measurement\" \"Glucose level\" \"Bicarbonate level\" \"Anion gap\" \"Lymph\" \"Infectious mononucleosis test\"'''\n",
    ")\n"
   ]
  },
  {
   "cell_type": "markdown",
   "metadata": {},
   "source": [
    "### Outlier Analysis"
   ]
  },
  {
   "cell_type": "code",
   "execution_count": 16,
   "metadata": {},
   "outputs": [
    {
     "name": "stdout",
     "output_type": "stream",
     "text": [
      "2023-11-22 10:51:56,542 - EHR-QC - INFO - Parsing command line arguments\n",
      "2023-11-22 10:51:56,544 - EHR-QC - INFO - args.source_file: /home/yram0006/phd/chapter_2/workspace/EHR-QC-Demo/2023_11_aicare/data/imputed/labs_avg_episode_date.csv\n",
      "2023-11-22 10:51:56,544 - EHR-QC - INFO - args.save_file: /home/yram0006/phd/chapter_2/workspace/EHR-QC-Demo/2023_11_aicare/data/cleaned/labs_avg_episode_date.csv\n",
      "2023-11-22 10:51:56,544 - EHR-QC - INFO - args.action: clean\n",
      "2023-11-22 10:51:56,544 - EHR-QC - INFO - args.columns: ['Sodium level', 'Blood urea nitrogen', 'Creatinine level', 'Potassium level', 'Chloride', 'Hematocrit', 'Haemoglobin estimation', 'Platelet count', 'Red blood cell count', 'Calcium level', 'MCV - Mean corpuscular volume', 'MCHC - Mean corpuscular haemoglobin concentration', 'Albumin', 'MCH - Mean corpuscular haemoglobin', 'Serum alkaline phosphatase level', 'Aspartate aminotransferase measurement', 'Alanine aminotransferase', 'Total bilirubin level', 'White blood cell count', 'Red blood cell distribution width', 'Total protein measurement', 'Glucose level', 'Bicarbonate level', 'Anion gap', 'Lymph', 'Infectious mononucleosis test']\n",
      "2023-11-22 10:51:56,568 - EHR-QC - INFO - Validating the input arguments.\n",
      "2023-11-22 10:51:56,570 - EHR-QC - INFO - Validating complete!!\n",
      "2023-11-22 10:51:56,570 - EHR-QC - INFO - Removing outliers\n"
     ]
    },
    {
     "name": "stderr",
     "output_type": "stream",
     "text": [
      "/superbugai-data/yash/chapter_2/workspace/EHR-QC-Preprocess/.venv/lib/python3.9/site-packages/sklearn/utils/validation.py:757: FutureWarning: is_sparse is deprecated and will be removed in a future version. Check `isinstance(dtype, pd.SparseDtype)` instead.\n",
      "  if not hasattr(array, \"sparse\") and array.dtypes.apply(is_sparse).any():\n",
      "/superbugai-data/yash/chapter_2/workspace/EHR-QC-Preprocess/.venv/lib/python3.9/site-packages/sklearn/utils/validation.py:595: FutureWarning: is_sparse is deprecated and will be removed in a future version. Check `isinstance(dtype, pd.SparseDtype)` instead.\n",
      "  if is_sparse(pd_dtype):\n",
      "/superbugai-data/yash/chapter_2/workspace/EHR-QC-Preprocess/.venv/lib/python3.9/site-packages/sklearn/utils/validation.py:604: FutureWarning: is_sparse is deprecated and will be removed in a future version. Check `isinstance(dtype, pd.SparseDtype)` instead.\n",
      "  if is_sparse(pd_dtype) or not is_extension_array_dtype(pd_dtype):\n",
      "/superbugai-data/yash/chapter_2/workspace/EHR-QC-Preprocess/.venv/lib/python3.9/site-packages/sklearn/base.py:450: UserWarning: X does not have valid feature names, but IsolationForest was fitted with feature names\n",
      "  warnings.warn(\n",
      "/superbugai-data/yash/chapter_2/workspace/EHR-QC-Preprocess/.venv/lib/python3.9/site-packages/sklearn/utils/validation.py:757: FutureWarning: is_sparse is deprecated and will be removed in a future version. Check `isinstance(dtype, pd.SparseDtype)` instead.\n",
      "  if not hasattr(array, \"sparse\") and array.dtypes.apply(is_sparse).any():\n",
      "/superbugai-data/yash/chapter_2/workspace/EHR-QC-Preprocess/.venv/lib/python3.9/site-packages/sklearn/utils/validation.py:595: FutureWarning: is_sparse is deprecated and will be removed in a future version. Check `isinstance(dtype, pd.SparseDtype)` instead.\n",
      "  if is_sparse(pd_dtype):\n",
      "/superbugai-data/yash/chapter_2/workspace/EHR-QC-Preprocess/.venv/lib/python3.9/site-packages/sklearn/utils/validation.py:604: FutureWarning: is_sparse is deprecated and will be removed in a future version. Check `isinstance(dtype, pd.SparseDtype)` instead.\n",
      "  if is_sparse(pd_dtype) or not is_extension_array_dtype(pd_dtype):\n",
      "/superbugai-data/yash/chapter_2/workspace/EHR-QC-Preprocess/ehrqc/plot/OutlierIsolationForest.py:87: SettingWithCopyWarning: \n",
      "A value is trying to be set on a copy of a slice from a DataFrame\n",
      "\n",
      "See the caveats in the documentation: https://pandas.pydata.org/pandas-docs/stable/user_guide/indexing.html#returning-a-view-versus-a-copy\n",
      "  correctedDf.drop(columns=['outlier_scores'], inplace=True)\n"
     ]
    },
    {
     "name": "stdout",
     "output_type": "stream",
     "text": [
      "2023-11-22 10:51:57,122 - EHR-QC - INFO - Saving the corrected file\n",
      "2023-11-22 10:51:57,240 - EHR-QC - INFO - Done!!\n"
     ]
    },
    {
     "data": {
      "text/plain": [
       "0"
      ]
     },
     "execution_count": 16,
     "metadata": {},
     "output_type": "execute_result"
    }
   ],
   "source": [
    "import os\n",
    "\n",
    "\n",
    "os.system(\n",
    "    'cd ' + os.environ['EHR_QC_PREPROCESS_BASE'] + ';'\n",
    "    +\n",
    "    '''.venv/bin/python -m ehrqc.plot.OutlierIsolationForest $EHR_QC_DEMO_BASE/2023_11_aicare/data/imputed/labs_avg_episode_date.csv $EHR_QC_DEMO_BASE/2023_11_aicare/data/cleaned/labs_avg_episode_date.csv clean -c \"Sodium level\" \"Blood urea nitrogen\" \"Creatinine level\" \"Potassium level\" \"Chloride\" \"Hematocrit\" \"Haemoglobin estimation\" \"Platelet count\" \"Red blood cell count\" \"Calcium level\" \"MCV - Mean corpuscular volume\" \"MCHC - Mean corpuscular haemoglobin concentration\" \"Albumin\" \"MCH - Mean corpuscular haemoglobin\" \"Serum alkaline phosphatase level\" \"Aspartate aminotransferase measurement\" \"Alanine aminotransferase\" \"Total bilirubin level\" \"White blood cell count\" \"Red blood cell distribution width\" \"Total protein measurement\" \"Glucose level\" \"Bicarbonate level\" \"Anion gap\" \"Lymph\" \"Infectious mononucleosis test\"'''\n",
    ")\n"
   ]
  },
  {
   "cell_type": "markdown",
   "metadata": {},
   "source": [
    "### Preprocessing Report"
   ]
  },
  {
   "cell_type": "code",
   "execution_count": 17,
   "metadata": {},
   "outputs": [
    {
     "name": "stdout",
     "output_type": "stream",
     "text": [
      "2023-11-22 10:52:13,093 - EHR-QC - INFO - Parsing command line arguments\n",
      "2023-11-22 10:52:13,095 - EHR-QC - INFO - args.save_path: /home/yram0006/phd/chapter_2/workspace/EHR-QC-Demo/2023_11_aicare/data/plots/combined/labs_avg_episode_date.pdf\n",
      "2023-11-22 10:52:13,095 - EHR-QC - INFO - args.columns: {'Sodium level': ['Sodium level', 'Sodium level', 'Sodium level'], 'Blood urea nitrogen': ['Blood urea nitrogen', 'Blood urea nitrogen', 'Blood urea nitrogen'], 'Creatinine level': ['Creatinine level', 'Creatinine level', 'Creatinine level'], 'Potassium level': ['Potassium level', 'Potassium level', 'Potassium level'], 'Chloride': ['Chloride', 'Chloride', 'Chloride'], 'Hematocrit': ['Hematocrit', 'Hematocrit', 'Hematocrit'], 'Haemoglobin estimation': ['Haemoglobin estimation', 'Haemoglobin estimation', 'Haemoglobin estimation'], 'Platelet count': ['Platelet count', 'Platelet count', 'Platelet count'], 'Red blood cell count': ['Red blood cell count', 'Red blood cell count', 'Red blood cell count'], 'Calcium level': ['Calcium level', 'Calcium level', 'Calcium level'], 'MCV - Mean corpuscular volume': ['MCV - Mean corpuscular volume', 'MCV - Mean corpuscular volume', 'MCV - Mean corpuscular volume'], 'MCHC - Mean corpuscular haemoglobin concentration': ['MCHC - Mean corpuscular haemoglobin concentration', 'MCHC - Mean corpuscular haemoglobin concentration', 'MCHC - Mean corpuscular haemoglobin concentration'], 'Albumin': ['Albumin', 'Albumin', 'Albumin'], 'MCH - Mean corpuscular haemoglobin': ['MCH - Mean corpuscular haemoglobin', 'MCH - Mean corpuscular haemoglobin', 'MCH - Mean corpuscular haemoglobin'], 'Serum alkaline phosphatase level': ['Serum alkaline phosphatase level', 'Serum alkaline phosphatase level', 'Serum alkaline phosphatase level'], 'Aspartate aminotransferase measurement': ['Aspartate aminotransferase measurement', 'Aspartate aminotransferase measurement', 'Aspartate aminotransferase measurement'], 'Alanine aminotransferase': ['Alanine aminotransferase', 'Alanine aminotransferase', 'Alanine aminotransferase'], 'Total bilirubin level': ['Total bilirubin level', 'Total bilirubin level', 'Total bilirubin level'], 'White blood cell count': ['White blood cell count', 'White blood cell count', 'White blood cell count'], 'Red blood cell distribution width': ['Red blood cell distribution width', 'Red blood cell distribution width', 'Red blood cell distribution width'], 'Total protein measurement': ['Total protein measurement', 'Total protein measurement', 'Total protein measurement'], 'Glucose level': ['Glucose level', 'Glucose level', 'Glucose level'], 'Bicarbonate level': ['Bicarbonate level', 'Bicarbonate level', 'Bicarbonate level'], 'Anion gap': ['Anion gap', 'Anion gap', 'Anion gap'], 'Lymph': ['Lymph', 'Lymph', 'Lymph'], 'Infectious mononucleosis test': ['Infectious mononucleosis test', 'Infectious mononucleosis test', 'Infectious mononucleosis test']}\n",
      "2023-11-22 10:52:13,095 - EHR-QC - INFO - args.source_file_list: ['/home/yram0006/phd/chapter_2/workspace/EHR-QC-Demo/2023_11_aicare/data/dropped/labs_avg_episode_date.csv', '/home/yram0006/phd/chapter_2/workspace/EHR-QC-Demo/2023_11_aicare/data/imputed/labs_avg_episode_date.csv', '/home/yram0006/phd/chapter_2/workspace/EHR-QC-Demo/2023_11_aicare/data/cleaned/labs_avg_episode_date.csv']\n",
      "2023-11-22 10:52:13,095 - EHR-QC - INFO - args.labels: ['Raw', 'Imputed', 'Cleaned']\n",
      "2023-11-22 10:52:13,095 - EHR-QC - INFO - Reading the source files\n",
      "2023-11-22 10:52:13,154 - EHR-QC - INFO - Plotting: Sodium level\n",
      "2023-11-22 10:52:15,347 - EHR-QC - INFO - Plotting: Blood urea nitrogen\n",
      "2023-11-22 10:52:15,536 - EHR-QC - INFO - Plotting: Creatinine level\n",
      "2023-11-22 10:52:15,728 - EHR-QC - INFO - Plotting: Potassium level\n",
      "2023-11-22 10:52:15,904 - EHR-QC - INFO - Plotting: Chloride\n",
      "2023-11-22 10:52:16,077 - EHR-QC - INFO - Plotting: Hematocrit\n",
      "2023-11-22 10:52:16,328 - EHR-QC - INFO - Plotting: Haemoglobin estimation\n",
      "2023-11-22 10:52:16,498 - EHR-QC - INFO - Plotting: Platelet count\n",
      "2023-11-22 10:52:16,678 - EHR-QC - INFO - Plotting: Red blood cell count\n",
      "2023-11-22 10:52:16,845 - EHR-QC - INFO - Plotting: Calcium level\n",
      "2023-11-22 10:52:17,024 - EHR-QC - INFO - Plotting: MCV - Mean corpuscular volume\n",
      "2023-11-22 10:52:17,195 - EHR-QC - INFO - Plotting: MCHC - Mean corpuscular haemoglobin concentration\n",
      "2023-11-22 10:52:17,373 - EHR-QC - INFO - Plotting: Albumin\n",
      "2023-11-22 10:52:17,531 - EHR-QC - INFO - Plotting: MCH - Mean corpuscular haemoglobin\n",
      "2023-11-22 10:52:17,703 - EHR-QC - INFO - Plotting: Serum alkaline phosphatase level\n",
      "2023-11-22 10:52:17,874 - EHR-QC - INFO - Plotting: Aspartate aminotransferase measurement\n",
      "2023-11-22 10:52:18,054 - EHR-QC - INFO - Plotting: Alanine aminotransferase\n",
      "2023-11-22 10:52:18,228 - EHR-QC - INFO - Plotting: Total bilirubin level\n",
      "2023-11-22 10:52:18,401 - EHR-QC - INFO - Plotting: White blood cell count\n",
      "2023-11-22 10:52:18,587 - EHR-QC - INFO - Plotting: Red blood cell distribution width\n",
      "2023-11-22 10:52:18,758 - EHR-QC - INFO - Plotting: Total protein measurement\n",
      "2023-11-22 10:52:18,917 - EHR-QC - INFO - Plotting: Glucose level\n"
     ]
    },
    {
     "name": "stderr",
     "output_type": "stream",
     "text": [
      "/superbugai-data/yash/chapter_2/workspace/EHR-QC-Preprocess/ehrqc/plot/ExplorationGraphsPdf.py:38: RuntimeWarning: More than 20 figures have been opened. Figures created through the pyplot interface (`matplotlib.pyplot.figure`) are retained until explicitly closed and may consume too much memory. (To control this warning, see the rcParam `figure.max_open_warning`). Consider using `matplotlib.pyplot.close()`.\n",
      "  fig, ax = plt.subplots()\n"
     ]
    },
    {
     "name": "stdout",
     "output_type": "stream",
     "text": [
      "2023-11-22 10:52:19,099 - EHR-QC - INFO - Plotting: Bicarbonate level\n",
      "2023-11-22 10:52:19,268 - EHR-QC - INFO - Plotting: Anion gap\n",
      "2023-11-22 10:52:19,442 - EHR-QC - INFO - Plotting: Lymph\n",
      "2023-11-22 10:52:19,715 - EHR-QC - INFO - Plotting: Infectious mononucleosis test\n",
      "2023-11-22 10:52:19,886 - EHR-QC - INFO - Saving the pdf\n",
      "2023-11-22 10:52:19,895 - EHR-QC - INFO - Done!!\n"
     ]
    },
    {
     "data": {
      "text/plain": [
       "0"
      ]
     },
     "execution_count": 17,
     "metadata": {},
     "output_type": "execute_result"
    }
   ],
   "source": [
    "import os\n",
    "\n",
    "\n",
    "os.system(\n",
    "    'cd ' + os.environ['EHR_QC_PREPROCESS_BASE'] + ';'\n",
    "    +\n",
    "    '''.venv/bin/python -m ehrqc.plot.ExplorationGraphsPdf $EHR_QC_DEMO_BASE/2023_11_aicare/data/plots/combined/labs_avg_episode_date.pdf -c '{\"Sodium level\" : [\"Sodium level\", \"Sodium level\", \"Sodium level\"], \"Blood urea nitrogen\" : [\"Blood urea nitrogen\", \"Blood urea nitrogen\", \"Blood urea nitrogen\"], \"Creatinine level\" : [\"Creatinine level\", \"Creatinine level\", \"Creatinine level\"], \"Potassium level\" : [\"Potassium level\", \"Potassium level\", \"Potassium level\"], \"Chloride\" : [\"Chloride\", \"Chloride\", \"Chloride\"], \"Hematocrit\" : [\"Hematocrit\", \"Hematocrit\", \"Hematocrit\"], \"Haemoglobin estimation\" : [\"Haemoglobin estimation\", \"Haemoglobin estimation\", \"Haemoglobin estimation\"], \"Platelet count\" : [\"Platelet count\", \"Platelet count\", \"Platelet count\"], \"Red blood cell count\" : [\"Red blood cell count\", \"Red blood cell count\", \"Red blood cell count\"], \"Calcium level\" : [\"Calcium level\", \"Calcium level\", \"Calcium level\"], \"MCV - Mean corpuscular volume\" : [\"MCV - Mean corpuscular volume\", \"MCV - Mean corpuscular volume\", \"MCV - Mean corpuscular volume\"], \"MCHC - Mean corpuscular haemoglobin concentration\" : [\"MCHC - Mean corpuscular haemoglobin concentration\", \"MCHC - Mean corpuscular haemoglobin concentration\", \"MCHC - Mean corpuscular haemoglobin concentration\"], \"Albumin\" : [\"Albumin\", \"Albumin\", \"Albumin\"], \"MCH - Mean corpuscular haemoglobin\" : [\"MCH - Mean corpuscular haemoglobin\", \"MCH - Mean corpuscular haemoglobin\", \"MCH - Mean corpuscular haemoglobin\"], \"Serum alkaline phosphatase level\" : [\"Serum alkaline phosphatase level\", \"Serum alkaline phosphatase level\", \"Serum alkaline phosphatase level\"], \"Aspartate aminotransferase measurement\" : [\"Aspartate aminotransferase measurement\", \"Aspartate aminotransferase measurement\", \"Aspartate aminotransferase measurement\"], \"Alanine aminotransferase\" : [\"Alanine aminotransferase\", \"Alanine aminotransferase\", \"Alanine aminotransferase\"], \"Total bilirubin level\" : [\"Total bilirubin level\", \"Total bilirubin level\", \"Total bilirubin level\"], \"White blood cell count\" : [\"White blood cell count\", \"White blood cell count\", \"White blood cell count\"], \"Red blood cell distribution width\" : [\"Red blood cell distribution width\", \"Red blood cell distribution width\", \"Red blood cell distribution width\"], \"Total protein measurement\" : [\"Total protein measurement\", \"Total protein measurement\", \"Total protein measurement\"], \"Glucose level\" : [\"Glucose level\", \"Glucose level\", \"Glucose level\"], \"Bicarbonate level\" : [\"Bicarbonate level\", \"Bicarbonate level\", \"Bicarbonate level\"], \"Anion gap\" : [\"Anion gap\", \"Anion gap\", \"Anion gap\"], \"Lymph\" : [\"Lymph\", \"Lymph\", \"Lymph\"], \"Infectious mononucleosis test\" : [\"Infectious mononucleosis test\", \"Infectious mononucleosis test\", \"Infectious mononucleosis test\"]}' -sf $EHR_QC_DEMO_BASE/2023_11_aicare/data/dropped/labs_avg_episode_date.csv $EHR_QC_DEMO_BASE/2023_11_aicare/data/imputed/labs_avg_episode_date.csv $EHR_QC_DEMO_BASE/2023_11_aicare/data/cleaned/labs_avg_episode_date.csv -l \"Raw\" \"Imputed\" \"Cleaned\"'''\n",
    ")\n"
   ]
  }
 ],
 "metadata": {
  "kernelspec": {
   "display_name": ".venv",
   "language": "python",
   "name": "python3"
  },
  "language_info": {
   "codemirror_mode": {
    "name": "ipython",
    "version": 3
   },
   "file_extension": ".py",
   "mimetype": "text/x-python",
   "name": "python",
   "nbconvert_exporter": "python",
   "pygments_lexer": "ipython3",
   "version": "3.8.10"
  }
 },
 "nbformat": 4,
 "nbformat_minor": 2
}
